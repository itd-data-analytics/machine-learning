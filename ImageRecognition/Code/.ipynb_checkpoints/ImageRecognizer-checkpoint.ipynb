{
 "cells": [
  {
   "cell_type": "markdown",
   "metadata": {},
   "source": [
    "# Imports"
   ]
  },
  {
   "cell_type": "code",
   "execution_count": null,
   "metadata": {},
   "outputs": [],
   "source": [
    "import numpy as np\n",
    "from scipy import misc\n",
    "import imageio\n",
    "from skimage import data, io, filters\n",
    "from matplotlib import pyplot as plt\n",
    "from random import shuffle\n",
    "from sklearn.ensemble import RandomForestClassifier\n",
    "from sklearn.model_selection import train_test_split\n",
    "from sklearn.metrics import accuracy_score\n",
    "import sqlite3\n",
    "from training import image_training as it\n",
    "import os\n",
    "import sys\n",
    "import pickle"
   ]
  },
  {
   "cell_type": "markdown",
   "metadata": {},
   "source": [
    "### Test Files"
   ]
  },
  {
   "cell_type": "code",
   "execution_count": null,
   "metadata": {
    "collapsed": true
   },
   "outputs": [],
   "source": []
  },
  {
   "cell_type": "code",
   "execution_count": null,
   "metadata": {},
   "outputs": [],
   "source": [
    "classified_true = it.get_true_images('guardrail')\n",
    "print(len(classified_true))\n",
    "print(classified_true[0])\n",
    "\n",
    "classified_false = it.get_false_images('guardrail')\n",
    "print(len(classified_false))\n",
    "print(classified_false[0])"
   ]
  },
  {
   "cell_type": "markdown",
   "metadata": {},
   "source": [
    "### Add Test List and Classified List together"
   ]
  },
  {
   "cell_type": "code",
   "execution_count": 3,
   "metadata": {},
   "outputs": [
    {
     "name": "stdout",
     "output_type": "stream",
     "text": [
      "12127\n"
     ]
    }
   ],
   "source": [
    "lt = [classified_false[0:len(classified_true)-1], classified_true]\n",
    "\n",
    "flattened_list = [i for s in lt for i in s]\n",
    "\n",
    "#print (flattened_list)\n",
    "print(len(flattened_list))"
   ]
  },
  {
   "cell_type": "markdown",
   "metadata": {},
   "source": [
    "### Shuffle Test Files"
   ]
  },
  {
   "cell_type": "code",
   "execution_count": 4,
   "metadata": {
    "scrolled": false
   },
   "outputs": [
    {
     "name": "stdout",
     "output_type": "stream",
     "text": [
      "('\\\\\\\\itdd01fsp01\\\\D1VideoLog\\\\2016\\\\105\\\\47\\\\105004742191.jpg', 0)\n",
      "('\\\\\\\\itdd01fsp01\\\\D1VideoLog\\\\2016\\\\113\\\\70\\\\113011032181.jpg', 1)\n",
      "('\\\\\\\\itdd01fsp01\\\\D1VideoLog\\\\2016\\\\112\\\\94\\\\112013414251.jpg', 1)\n",
      "('\\\\\\\\itdd01fsp01\\\\D1VideoLog\\\\2016\\\\100\\\\12\\\\100001203021.jpg', 0)\n",
      "('\\\\\\\\itdd01fsp01\\\\D1VideoLog\\\\2016\\\\107\\\\115\\\\107015542201.jpg', 1)\n",
      "('\\\\\\\\itdd01fsp01\\\\D1VideoLog\\\\2016\\\\105\\\\24\\\\105002436021.jpg', 0)\n",
      "('\\\\\\\\itdd01fsp01\\\\D1VideoLog\\\\2016\\\\106\\\\23\\\\106002301021.jpg', 0)\n",
      "('\\\\\\\\itdd01fsp01\\\\D1VideoLog\\\\2016\\\\100\\\\25\\\\100002516241.jpg', 0)\n",
      "('\\\\\\\\itdd01fsp01\\\\D1VideoLog\\\\2016\\\\108\\\\29\\\\108002951211.jpg', 0)\n",
      "('\\\\\\\\itdd01fsp01\\\\D1VideoLog\\\\2016\\\\101\\\\6\\\\101000657211.jpg', 0)\n",
      "('\\\\\\\\itdd02fsp01\\\\VideoLog16\\\\203\\\\21\\\\203002138241.jpg', 1)\n",
      "('\\\\\\\\itdd01fsp01\\\\D1VideoLog\\\\2016\\\\112\\\\39\\\\112003954141.jpg', 1)\n",
      "('\\\\\\\\itdd01fsp01\\\\D1VideoLog\\\\2016\\\\108\\\\80\\\\108012038131.jpg', 1)\n",
      "('\\\\\\\\itdd01fsp01\\\\D1VideoLog\\\\2016\\\\100\\\\78\\\\100011822141.jpg', 1)\n",
      "('\\\\\\\\itdd01fsp01\\\\D1VideoLog\\\\2016\\\\100\\\\9\\\\100000909181.jpg', 0)\n",
      "('\\\\\\\\itdd01fsp01\\\\D1VideoLog\\\\2016\\\\107\\\\114\\\\107015453271.jpg', 1)\n",
      "('\\\\\\\\itdd02fsp01\\\\VideoLog16\\\\202\\\\70\\\\202011018121.jpg', 1)\n",
      "('\\\\\\\\itdd01fsp01\\\\D1VideoLog\\\\2016\\\\112\\\\39\\\\112003957111.jpg', 1)\n",
      "('\\\\\\\\itdd01fsp01\\\\D1VideoLog\\\\2016\\\\100\\\\5\\\\100000508141.jpg', 0)\n",
      "('\\\\\\\\itdd01fsp01\\\\D1VideoLog\\\\2016\\\\106\\\\80\\\\106012028131.jpg', 0)\n",
      "('\\\\\\\\itdd01fsp01\\\\D1VideoLog\\\\2016\\\\102\\\\48\\\\102004812231.jpg', 1)\n",
      "('\\\\\\\\itdd02fsp01\\\\VideoLog16\\\\203\\\\99\\\\203013903281.jpg', 1)\n",
      "('\\\\\\\\itdd01fsp01\\\\D1VideoLog\\\\2016\\\\106\\\\48\\\\106004854121.jpg', 0)\n",
      "('\\\\\\\\itdd01fsp01\\\\D1VideoLog\\\\2016\\\\111\\\\7\\\\111000702031.jpg', 0)\n",
      "('\\\\\\\\itdd01fsp01\\\\D1VideoLog\\\\2016\\\\108\\\\7\\\\108000728061.jpg', 0)\n",
      "('\\\\\\\\itdd01fsp01\\\\D1VideoLog\\\\2016\\\\108\\\\113\\\\108015322291.jpg', 0)\n",
      "('\\\\\\\\itdd01fsp01\\\\D1VideoLog\\\\2016\\\\113\\\\36\\\\113003643221.jpg', 1)\n",
      "('\\\\\\\\itdd01fsp01\\\\D1VideoLog\\\\2016\\\\100\\\\10\\\\100001029171.jpg', 0)\n",
      "('\\\\\\\\itdd01fsp01\\\\D1VideoLog\\\\2016\\\\105\\\\63\\\\105010305171.jpg', 1)\n",
      "('\\\\\\\\itdd01fsp01\\\\D1VideoLog\\\\2016\\\\100\\\\8\\\\100000816191.jpg', 0)\n",
      "('\\\\\\\\itdd01fsp01\\\\D1VideoLog\\\\2016\\\\105\\\\102\\\\105014229061.jpg', 1)\n",
      "('\\\\\\\\itdd01fsp01\\\\D1VideoLog\\\\2016\\\\112\\\\39\\\\112003952101.jpg', 1)\n",
      "('\\\\\\\\itdd01fsp01\\\\D1VideoLog\\\\2016\\\\107\\\\105\\\\107014514271.jpg', 1)\n",
      "('\\\\\\\\itdd01fsp01\\\\D1VideoLog\\\\2016\\\\102\\\\48\\\\102004808241.jpg', 1)\n",
      "('\\\\\\\\itdd01fsp01\\\\D1VideoLog\\\\2016\\\\102\\\\46\\\\102004638271.jpg', 1)\n",
      "('\\\\\\\\itdd01fsp01\\\\D1VideoLog\\\\2016\\\\104\\\\71\\\\104011124001.jpg', 0)\n",
      "('\\\\\\\\itdd01fsp01\\\\D1VideoLog\\\\2016\\\\100\\\\9\\\\100000921021.jpg', 0)\n",
      "('\\\\\\\\itdd01fsp01\\\\D1VideoLog\\\\2016\\\\100\\\\90\\\\100013040271.jpg', 0)\n",
      "('\\\\\\\\itdd01fsp01\\\\D1VideoLog\\\\2016\\\\103\\\\24\\\\103002404231.jpg', 1)\n",
      "('\\\\\\\\itdd02fsp01\\\\VideoLog16\\\\200\\\\55\\\\200005523001.jpg', 1)\n",
      "('\\\\\\\\itdd01fsp01\\\\D1VideoLog\\\\2016\\\\100\\\\9\\\\100000957211.jpg', 0)\n",
      "('\\\\\\\\itdd01fsp01\\\\D1VideoLog\\\\2016\\\\105\\\\7\\\\105000707251.jpg', 0)\n",
      "('\\\\\\\\itdd01fsp01\\\\D1VideoLog\\\\2016\\\\100\\\\82\\\\100012241031.jpg', 0)\n",
      "('\\\\\\\\itdd01fsp01\\\\D1VideoLog\\\\2016\\\\108\\\\97\\\\108013733251.jpg', 1)\n",
      "('\\\\\\\\itdd01fsp01\\\\D1VideoLog\\\\2016\\\\101\\\\96\\\\101013651251.jpg', 0)\n",
      "('\\\\\\\\itdd01fsp01\\\\D1VideoLog\\\\2016\\\\100\\\\6\\\\100000602191.jpg', 0)\n",
      "('\\\\\\\\itdd01fsp01\\\\D1VideoLog\\\\2016\\\\104\\\\74\\\\104011402121.jpg', 0)\n",
      "('\\\\\\\\itdd01fsp01\\\\D1VideoLog\\\\2016\\\\105\\\\59\\\\105005927131.jpg', 1)\n",
      "('\\\\\\\\itdd01fsp01\\\\D1VideoLog\\\\2016\\\\107\\\\76\\\\107011653021.jpg', 1)\n",
      "('\\\\\\\\itdd01fsp01\\\\D1VideoLog\\\\2016\\\\107\\\\116\\\\107015659231.jpg', 1)\n",
      "('\\\\\\\\itdd01fsp01\\\\D1VideoLog\\\\2016\\\\108\\\\76\\\\108011624191.jpg', 0)\n",
      "('\\\\\\\\itdd01fsp01\\\\D1VideoLog\\\\2016\\\\110\\\\37\\\\110003751241.jpg', 0)\n",
      "('\\\\\\\\itdd01fsp01\\\\D1VideoLog\\\\2016\\\\108\\\\98\\\\108013810001.jpg', 0)\n",
      "('\\\\\\\\itdd01fsp01\\\\D1VideoLog\\\\2016\\\\107\\\\104\\\\107014453211.jpg', 1)\n",
      "('\\\\\\\\itdd01fsp01\\\\D1VideoLog\\\\2016\\\\103\\\\25\\\\103002515231.jpg', 1)\n",
      "('\\\\\\\\itdd01fsp01\\\\D1VideoLog\\\\2016\\\\105\\\\59\\\\105005945091.jpg', 1)\n",
      "('\\\\\\\\itdd01fsp01\\\\D1VideoLog\\\\2016\\\\104\\\\52\\\\104005215181.jpg', 0)\n",
      "('\\\\\\\\itdd01fsp01\\\\D1VideoLog\\\\2016\\\\100\\\\9\\\\100000924111.jpg', 0)\n",
      "('\\\\\\\\itdd01fsp01\\\\D1VideoLog\\\\2016\\\\106\\\\10\\\\106001055221.jpg', 0)\n",
      "('\\\\\\\\itdd01fsp01\\\\D1VideoLog\\\\2016\\\\109\\\\17\\\\109001722031.jpg', 1)\n",
      "('\\\\\\\\itdd01fsp01\\\\D1VideoLog\\\\2016\\\\105\\\\40\\\\105004011021.jpg', 0)\n",
      "('\\\\\\\\itdd02fsp01\\\\VideoLog16\\\\203\\\\100\\\\203014010161.jpg', 1)\n",
      "('\\\\\\\\itdd01fsp01\\\\D1VideoLog\\\\2016\\\\100\\\\50\\\\100005039201.jpg', 1)\n",
      "('\\\\\\\\itdd01fsp01\\\\D1VideoLog\\\\2016\\\\107\\\\76\\\\107011642191.jpg', 1)\n",
      "('\\\\\\\\itdd03fsp01\\\\videolog\\\\326\\\\76\\\\326011624151.jpg', 1)\n",
      "('\\\\\\\\itdd01fsp01\\\\D1VideoLog\\\\2016\\\\100\\\\7\\\\100000702121.jpg', 0)\n",
      "('\\\\\\\\itdd02fsp01\\\\VideoLog16\\\\205\\\\26\\\\205002642141.jpg', 1)\n",
      "('\\\\\\\\itdd02fsp01\\\\VideoLog16\\\\202\\\\70\\\\202011037231.jpg', 1)\n",
      "('\\\\\\\\itdd01fsp01\\\\D1VideoLog\\\\2016\\\\103\\\\25\\\\103002514171.jpg', 1)\n",
      "('\\\\\\\\itdd01fsp01\\\\D1VideoLog\\\\2016\\\\100\\\\2\\\\100000230041.jpg', 0)\n",
      "('\\\\\\\\itdd02fsp01\\\\VideoLog16\\\\200\\\\54\\\\200005456261.jpg', 1)\n",
      "('\\\\\\\\itdd01fsp01\\\\D1VideoLog\\\\2016\\\\100\\\\52\\\\100005236061.jpg', 1)\n",
      "('\\\\\\\\itdd01fsp01\\\\D1VideoLog\\\\2016\\\\107\\\\115\\\\107015515031.jpg', 1)\n",
      "('\\\\\\\\itdd02fsp01\\\\VideoLog16\\\\203\\\\106\\\\203014638261.jpg', 1)\n",
      "('\\\\\\\\itdd02fsp01\\\\VideoLog16\\\\203\\\\99\\\\203013905101.jpg', 1)\n",
      "('\\\\\\\\itdd01fsp01\\\\D1VideoLog\\\\2016\\\\100\\\\4\\\\100000433101.jpg', 0)\n",
      "('\\\\\\\\itdd02fsp01\\\\VideoLog16\\\\203\\\\52\\\\203005238041.jpg', 1)\n",
      "('\\\\\\\\itdd01fsp01\\\\D1VideoLog\\\\2016\\\\108\\\\88\\\\108012848061.jpg', 1)\n",
      "('\\\\\\\\itdd01fsp01\\\\D1VideoLog\\\\2016\\\\108\\\\108\\\\108014800161.jpg', 0)\n",
      "('\\\\\\\\itdd02fsp01\\\\VideoLog16\\\\203\\\\100\\\\203014016181.jpg', 1)\n",
      "('\\\\\\\\itdd01fsp01\\\\D1VideoLog\\\\2016\\\\110\\\\34\\\\110003446261.jpg', 0)\n",
      "('\\\\\\\\itdd01fsp01\\\\D1VideoLog\\\\2016\\\\107\\\\74\\\\107011445021.jpg', 0)\n",
      "('\\\\\\\\itdd02fsp01\\\\VideoLog16\\\\202\\\\67\\\\202010736221.jpg', 1)\n",
      "('\\\\\\\\itdd01fsp01\\\\D1VideoLog\\\\2016\\\\100\\\\11\\\\100001139031.jpg', 0)\n",
      "('\\\\\\\\itdd01fsp01\\\\D1VideoLog\\\\2016\\\\107\\\\39\\\\107003900231.jpg', 0)\n",
      "('\\\\\\\\itdd01fsp01\\\\D1VideoLog\\\\2016\\\\100\\\\16\\\\100001626251.jpg', 0)\n",
      "('\\\\\\\\itdd01fsp01\\\\D1VideoLog\\\\2016\\\\112\\\\94\\\\112013402091.jpg', 1)\n",
      "('\\\\\\\\itdd01fsp01\\\\D1VideoLog\\\\2016\\\\101\\\\62\\\\101010200081.jpg', 0)\n",
      "('\\\\\\\\itdd01fsp01\\\\D1VideoLog\\\\2016\\\\105\\\\41\\\\105004154071.jpg', 0)\n",
      "('\\\\\\\\itdd01fsp01\\\\D1VideoLog\\\\2016\\\\108\\\\83\\\\108012308141.jpg', 0)\n",
      "('\\\\\\\\itdd01fsp01\\\\D1VideoLog\\\\2016\\\\108\\\\105\\\\108014526131.jpg', 1)\n",
      "('\\\\\\\\itdd01fsp01\\\\D1VideoLog\\\\2016\\\\110\\\\62\\\\110010215191.jpg', 0)\n",
      "('\\\\\\\\itdd01fsp01\\\\D1VideoLog\\\\2016\\\\107\\\\115\\\\107015517001.jpg', 1)\n",
      "('\\\\\\\\itdd01fsp01\\\\D1VideoLog\\\\2016\\\\112\\\\39\\\\112003948221.jpg', 1)\n",
      "('\\\\\\\\itdd01fsp01\\\\D1VideoLog\\\\2016\\\\107\\\\80\\\\107012027121.jpg', 0)\n",
      "('\\\\\\\\itdd01fsp01\\\\D1VideoLog\\\\2016\\\\101\\\\16\\\\101001658211.jpg', 0)\n",
      "('\\\\\\\\itdd01fsp01\\\\D1VideoLog\\\\2016\\\\100\\\\21\\\\100002123171.jpg', 0)\n",
      "('\\\\\\\\itdd01fsp01\\\\D1VideoLog\\\\2016\\\\105\\\\102\\\\105014218101.jpg', 1)\n",
      "('\\\\\\\\itdd01fsp01\\\\D1VideoLog\\\\2016\\\\100\\\\0\\\\100000010211.jpg', 0)\n",
      "('\\\\\\\\itdd01fsp01\\\\D1VideoLog\\\\2016\\\\113\\\\70\\\\113011005001.jpg', 1)\n"
     ]
    }
   ],
   "source": [
    "shuffle(flattened_list)\n",
    "for i in flattened_list[0:100]:\n",
    "    print (i)"
   ]
  },
  {
   "cell_type": "markdown",
   "metadata": {},
   "source": [
    "### Validate That The Filepaths Exist"
   ]
  },
  {
   "cell_type": "code",
   "execution_count": 5,
   "metadata": {},
   "outputs": [
    {
     "name": "stdout",
     "output_type": "stream",
     "text": [
      "STATUS: ALL FILES OKAY\n"
     ]
    }
   ],
   "source": [
    "for file in flattened_list:\n",
    "    if not os.path.isfile(file[0]):\n",
    "        raise RuntimeError('File: {} could not be located.'.format(file[0]))\n",
    "print('STATUS: ALL FILES OKAY')"
   ]
  },
  {
   "cell_type": "markdown",
   "metadata": {},
   "source": [
    "### Progress Bar Class"
   ]
  },
  {
   "cell_type": "code",
   "execution_count": 5,
   "metadata": {},
   "outputs": [],
   "source": [
    "class ProgressBar(object):\n",
    "    \n",
    "    def __init__(self, total_count, step_count=50):\n",
    "        \"\"\"Initialze a progress bar\n",
    "        \n",
    "        Keyword Arguments:\n",
    "        total_count -- The total count to track progress.\n",
    "        step_count -- The number of steps in this total count.\n",
    "        \"\"\"\n",
    "        self.total_count = total_count\n",
    "        self.step_count = step_count\n",
    "        self.step_size = int(self.total_count / self.step_count)\n",
    "        self.step = 0\n",
    "        self.value = 0\n",
    "        \n",
    "    def __str__(self):\n",
    "        string = 'Progress |'\n",
    "        for i in range(0, self.step_count):\n",
    "            if i < self.step:\n",
    "                string += '#'\n",
    "            else:\n",
    "                string += '-'\n",
    "        string += '| {:.2f}%'.format((float(self.value) / self.total_count) * 100)\n",
    "        return string\n",
    "        \n",
    "    def update(self, value):\n",
    "        self.value = value\n",
    "        self.step = int(self.value / self.step_size)"
   ]
  },
  {
   "cell_type": "markdown",
   "metadata": {},
   "source": [
    "### Define Data Files And Open Them"
   ]
  },
  {
   "cell_type": "code",
   "execution_count": 6,
   "metadata": {},
   "outputs": [],
   "source": [
    "datafile = 'data.pickled'\n",
    "answersfile = 'answers.pickled'\n",
    "\n",
    "datapickled = open(datafile, 'wb+')\n",
    "answerspickled = open(answersfile, 'wb+')"
   ]
  },
  {
   "cell_type": "markdown",
   "metadata": {},
   "source": [
    "### Pickle Data To Files And Close Files"
   ]
  },
  {
   "cell_type": "code",
   "execution_count": 7,
   "metadata": {},
   "outputs": [
    {
     "name": "stdout",
     "output_type": "stream",
     "text": [
      "Progress |--------------------------------------------------| 0.00% \n",
      "Progress |##################################################| 100.00%\r"
     ]
    }
   ],
   "source": [
    "\n",
    "\n",
    "progressbar = ProgressBar(len(flattened_list))\n",
    "item_count = 0\n",
    "print(progressbar, '\\r')\n",
    "for item in flattened_list:\n",
    "    item_count += 1\n",
    "    try:\n",
    "        data_array = np.array(imageio.imread(item[0]))\n",
    "        string = pickle.dumps(data_array)\n",
    "        pickle.dump(string, datapickled)\n",
    "        pickle.dump(item[1], answerspickled)\n",
    "        \n",
    "    except Exception as e:\n",
    "        print(e)\n",
    "        print(item)\n",
    "        break\n",
    "    \n",
    "    progressbar.update(item_count)\n",
    "    print(progressbar, end='\\r')\n",
    "\n",
    "datapickled.close()\n",
    "answerspickled.close()"
   ]
  },
  {
   "cell_type": "markdown",
   "metadata": {},
   "source": [
    "### Random Forest Classifier"
   ]
  },
  {
   "cell_type": "code",
   "execution_count": 8,
   "metadata": {},
   "outputs": [],
   "source": [
    "clf = RandomForestClassifier(warm_start=True, n_estimators=100)"
   ]
  },
  {
   "cell_type": "markdown",
   "metadata": {},
   "source": [
    "### Function To Train The Model"
   ]
  },
  {
   "cell_type": "code",
   "execution_count": 9,
   "metadata": {},
   "outputs": [],
   "source": [
    "def train_classifier(start_index, end_index):\n",
    "    X = []\n",
    "    y = []\n",
    "    \n",
    "    with open(datafile, 'rb') as datapickled:\n",
    "        for i in range(0, start_index):\n",
    "            pickle.load(datapickled)\n",
    "        for i in range(start_index, end_index):\n",
    "            string = pickle.load(datapickled)\n",
    "            X.append(pickle.loads(string))\n",
    "    X = np.array(X)\n",
    "    \n",
    "    with open(answersfile, 'rb') as answerspickled:\n",
    "        for i in range(0, start_index):\n",
    "            pickle.load(answerspickled)\n",
    "        for i in range(start_index, end_index):\n",
    "            y.append(pickle.load(answerspickled))\n",
    "    y = np.array(y)\n",
    "    \n",
    "    X = X.reshape(X.shape[1] * X.shape[2] * X.shape[3], X.shape[0]).T\n",
    "    y = y.reshape(y.shape[0],)\n",
    "    \n",
    "    X_train, X_test, y_train, y_test = train_test_split(X, y, test_size=0.1)\n",
    "    clf.fit(X_train, y_train)\n",
    "    clf.set_params(n_estimators=clf.get_params()['n_estimators'] + 100)\n",
    "    \n",
    "    return (X_train, X_test, y_train, y_test)"
   ]
  },
  {
   "cell_type": "markdown",
   "metadata": {},
   "source": [
    "### Train The Model Incrementally"
   ]
  },
  {
   "cell_type": "code",
   "execution_count": 10,
   "metadata": {
    "scrolled": true
   },
   "outputs": [
    {
     "name": "stdout",
     "output_type": "stream",
     "text": [
      "Progress |##################################################| 99.78%\r"
     ]
    }
   ],
   "source": [
    "progressbar = ProgressBar(len(flattened_list))\n",
    "print(progressbar, end='\\r')\n",
    "for i in range(100, len(flattened_list), 100):\n",
    "    X_train, X_test, y_train, y_test = train_classifier(i-100, i)\n",
    "    progressbar.update(i)\n",
    "    print(progressbar, end='\\r')"
   ]
  },
  {
   "cell_type": "markdown",
   "metadata": {},
   "source": [
    "### Test The Model Based On Prediction Set"
   ]
  },
  {
   "cell_type": "code",
   "execution_count": 11,
   "metadata": {},
   "outputs": [
    {
     "name": "stdout",
     "output_type": "stream",
     "text": [
      "Accuracy: 0.7\n",
      "(10, 7200000)\n",
      "[1 1 0 1 1 0 0 0 1 0 0 0 0 1 1 1 1 0 1 1 1 0 0 1 0 0 1 0 0 0 1 0 0 0 0 0 1\n",
      " 1 1 0 1 1 0 0 1 0 1 0 0 1 1 0 1 1 0 0 1 1 1 0 1 1 0 0 1 0 0 1 1 1 0 0 1 0\n",
      " 1 0 0 1 0 1 0 0 1 1 0 0 0 0 1 1]\n"
     ]
    }
   ],
   "source": [
    "preds = clf.predict(X_test)\n",
    "print(\"Accuracy:\", accuracy_score(y_test,preds))\n",
    "print (X_test.shape)\n",
    "print (y_train)"
   ]
  },
  {
   "cell_type": "markdown",
   "metadata": {},
   "source": [
    "### Attempt To Save The Machine To A File"
   ]
  },
  {
   "cell_type": "code",
   "execution_count": 12,
   "metadata": {},
   "outputs": [],
   "source": [
    "machinefile = 'machine.pickled'\n",
    "with open(machinefile, 'wb') as machinepickled:\n",
    "    pickle.dump(clf, machinepickled)"
   ]
  },
  {
   "cell_type": "markdown",
   "metadata": {},
   "source": [
    "### Test The Model"
   ]
  },
  {
   "cell_type": "code",
   "execution_count": 21,
   "metadata": {},
   "outputs": [],
   "source": [
    "# '301004459215'\n",
    "# '301004457041'\n",
    "# '301004457092'\n",
    "# '301004457251'\n",
    "\n",
    "#  '301004400151' (yes example)\n",
    "#  '301004405171' (no example)\n",
    "\n",
    "yes = '301004400151.jpg'\n",
    "no = '301004405171.jpg'\n",
    "\n",
    "directory = '//itdd03fsp01/videolog/301/44/' + no"
   ]
  },
  {
   "cell_type": "code",
   "execution_count": 22,
   "metadata": {},
   "outputs": [],
   "source": [
    "def transform_image(dir):\n",
    "    data_array = np.array(imageio.imread(dir))\n",
    "    reshape_array = data_array.reshape(data_array.shape[0] * data_array.shape[1] * data_array.shape[2], 1).T\n",
    "    return reshape_array"
   ]
  },
  {
   "cell_type": "code",
   "execution_count": 23,
   "metadata": {},
   "outputs": [
    {
     "name": "stdout",
     "output_type": "stream",
     "text": [
      "[[179 179 187 ... 100  97  92]]\n"
     ]
    }
   ],
   "source": [
    "test_image = transform_image(directory)\n",
    "print (test_image)"
   ]
  },
  {
   "cell_type": "code",
   "execution_count": 24,
   "metadata": {},
   "outputs": [
    {
     "name": "stdout",
     "output_type": "stream",
     "text": [
      "No\n"
     ]
    }
   ],
   "source": [
    "prediction = clf.predict(test_image)\n",
    "if prediction == 1:\n",
    "    print('Yes')\n",
    "elif prediction == 0:\n",
    "    print('No')\n",
    "else:\n",
    "    print('Error')"
   ]
  },
  {
   "cell_type": "code",
   "execution_count": null,
   "metadata": {},
   "outputs": [],
   "source": []
  }
 ],
 "metadata": {
  "kernelspec": {
   "display_name": "Python 3",
   "language": "python",
   "name": "python3"
  },
  "language_info": {
   "codemirror_mode": {
    "name": "ipython",
    "version": 3
   },
   "file_extension": ".py",
   "mimetype": "text/x-python",
   "name": "python",
   "nbconvert_exporter": "python",
   "pygments_lexer": "ipython3",
   "version": "3.6.5"
  }
 },
 "nbformat": 4,
 "nbformat_minor": 2
}
